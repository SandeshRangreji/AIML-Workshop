{
  "nbformat": 4,
  "nbformat_minor": 0,
  "metadata": {
    "colab": {
      "name": "Python practice questions.ipynb",
      "provenance": [],
      "authorship_tag": "ABX9TyNkn7ljOw7cnfuva1IfidjQ",
      "include_colab_link": true
    },
    "kernelspec": {
      "name": "python3",
      "display_name": "Python 3"
    },
    "language_info": {
      "name": "python"
    }
  },
  "cells": [
    {
      "cell_type": "markdown",
      "metadata": {
        "id": "view-in-github",
        "colab_type": "text"
      },
      "source": [
        "<a href=\"https://colab.research.google.com/github/SandeshRangreji/AIML-Workshop/blob/main/Session%202/Python_practice_questions.ipynb\" target=\"_parent\"><img src=\"https://colab.research.google.com/assets/colab-badge.svg\" alt=\"Open In Colab\"/></a>"
      ]
    },
    {
      "cell_type": "markdown",
      "metadata": {
        "id": "HXyieQ_QdEUz"
      },
      "source": [
        "# **Sum of 'n' numbers**\n",
        "\n",
        "Additional objective: use range operator"
      ]
    },
    {
      "cell_type": "code",
      "metadata": {
        "colab": {
          "base_uri": "https://localhost:8080/"
        },
        "id": "EK9FM979dAPH",
        "outputId": "fc8cd921-bf66-4d14-e352-63dee2037fc4"
      },
      "source": [
        "print(\"SUM OF n NUMBERS\")\n",
        "n = 100\n",
        "i = 1\n",
        "c = 0\n",
        "sum = 0\n",
        "while c != n:\n",
        "    sum = sum + i\n",
        "    i = i + 1\n",
        "    c = c + 1\n",
        "print(sum)"
      ],
      "execution_count": null,
      "outputs": [
        {
          "output_type": "stream",
          "name": "stdout",
          "text": [
            "SUM OF n NUMBERS\n",
            "5050\n"
          ]
        }
      ]
    },
    {
      "cell_type": "code",
      "metadata": {
        "colab": {
          "base_uri": "https://localhost:8080/"
        },
        "id": "Wh0E7BT4d_-s",
        "outputId": "6d8380e6-5278-4dd2-90ae-958277dc21cd"
      },
      "source": [
        "n = 100\n",
        "sum = 0\n",
        "for i in range(n+1):\n",
        "  sum += i\n",
        "print(\"Sum of 'n' numbers : \" + str(sum))"
      ],
      "execution_count": null,
      "outputs": [
        {
          "output_type": "stream",
          "name": "stdout",
          "text": [
            "Sum of 'n' numbers : 5050\n"
          ]
        }
      ]
    },
    {
      "cell_type": "code",
      "metadata": {
        "colab": {
          "base_uri": "https://localhost:8080/"
        },
        "id": "XiCbU-5MFv5c",
        "outputId": "eb099bdb-c03f-4bf6-a01d-f849c360766d"
      },
      "source": [
        "n = 5\n",
        "sum_ = (n/2)*(1+n)\n",
        "print(sum_)"
      ],
      "execution_count": null,
      "outputs": [
        {
          "output_type": "stream",
          "name": "stdout",
          "text": [
            "15.0\n"
          ]
        }
      ]
    },
    {
      "cell_type": "markdown",
      "metadata": {
        "id": "4Cd0dhNbdaju"
      },
      "source": [
        "# **Sum of 'n' odd numbers**\n",
        "Additional objective: use range operator"
      ]
    },
    {
      "cell_type": "code",
      "metadata": {
        "colab": {
          "base_uri": "https://localhost:8080/"
        },
        "id": "o8-1MzTGdbIy",
        "outputId": "56815eb0-2b10-47c8-f9b0-a7d07108123a"
      },
      "source": [
        "print(\"SUM OF n ODD NUMBERS\")\n",
        "n = 50\n",
        "c = 0\n",
        "i = 1\n",
        "sum = 0\n",
        "while c != n:\n",
        "    sum = sum + i\n",
        "    i = i + 2\n",
        "    c = c + 1\n",
        "print(sum)"
      ],
      "execution_count": null,
      "outputs": [
        {
          "output_type": "stream",
          "name": "stdout",
          "text": [
            "SUM OF n ODD NUMBERS\n",
            "2500\n"
          ]
        }
      ]
    },
    {
      "cell_type": "code",
      "metadata": {
        "colab": {
          "base_uri": "https://localhost:8080/"
        },
        "id": "nNSY80BoekSH",
        "outputId": "3c9b9543-02f8-4722-dfad-4a19844e8dcc"
      },
      "source": [
        "n = 50\n",
        "sum = 0\n",
        "for i in range(1,n*2, 2):\n",
        "  sum += i\n",
        "print(\"Sum of 'n' odd numbers : \" + str(sum))"
      ],
      "execution_count": null,
      "outputs": [
        {
          "output_type": "stream",
          "name": "stdout",
          "text": [
            "Sum of 'n' odd numbers : 2500\n"
          ]
        }
      ]
    },
    {
      "cell_type": "markdown",
      "metadata": {
        "id": "WNN6DOlUdbf1"
      },
      "source": [
        "# **Reverse of a number**\n",
        "\n",
        "Additional objective 1: write code without using an arithmetic operator\n",
        "\n",
        "Additional objective 1: solve with a one liner"
      ]
    },
    {
      "cell_type": "code",
      "metadata": {
        "colab": {
          "base_uri": "https://localhost:8080/"
        },
        "id": "s66wXWPadb1O",
        "outputId": "39760b50-31e3-4c9f-9bdd-06d0fa177a22"
      },
      "source": [
        "print(\"Reverse of a number\")\n",
        "n = 4562\n",
        "rev = 0\n",
        "\n",
        "while (n > 0):\n",
        "    a = n % 10\n",
        "    rev = rev * 10 + a\n",
        "    n = n // 10\n",
        "\n",
        "print(rev)"
      ],
      "execution_count": null,
      "outputs": [
        {
          "output_type": "stream",
          "name": "stdout",
          "text": [
            "Reverse of a number\n",
            "2654\n"
          ]
        }
      ]
    },
    {
      "cell_type": "code",
      "metadata": {
        "colab": {
          "base_uri": "https://localhost:8080/"
        },
        "id": "ymUQqA49fT5d",
        "outputId": "89862c0f-1052-453f-c3a3-3a3887959bfb"
      },
      "source": [
        "n = 4562\n",
        "print(n)\n",
        "n = str(n)\n",
        "n = n[::-1]\n",
        "n = int(n)\n",
        "print(n)"
      ],
      "execution_count": null,
      "outputs": [
        {
          "output_type": "stream",
          "name": "stdout",
          "text": [
            "4562\n",
            "2654\n"
          ]
        }
      ]
    },
    {
      "cell_type": "code",
      "metadata": {
        "colab": {
          "base_uri": "https://localhost:8080/"
        },
        "id": "qyi_MzqSIYIx",
        "outputId": "0632c08d-d3b0-412e-aa94-9920fba89d39"
      },
      "source": [
        "n = 421\n",
        "print(n)"
      ],
      "execution_count": null,
      "outputs": [
        {
          "output_type": "stream",
          "name": "stdout",
          "text": [
            "421\n"
          ]
        }
      ]
    },
    {
      "cell_type": "code",
      "metadata": {
        "colab": {
          "base_uri": "https://localhost:8080/"
        },
        "id": "rfMazyNVfeGy",
        "outputId": "4910d823-670a-4065-ae41-3ba5df655b10"
      },
      "source": [
        "n = 4562\n",
        "print(n)\n",
        "\n",
        "#<-----LOGIC----->\n",
        "n = int(str(n)[::-1])\n",
        "\n",
        "print(n)"
      ],
      "execution_count": null,
      "outputs": [
        {
          "output_type": "stream",
          "name": "stdout",
          "text": [
            "4562\n",
            "2654\n"
          ]
        }
      ]
    },
    {
      "cell_type": "markdown",
      "metadata": {
        "id": "VHAzX9WIgMRS"
      },
      "source": [
        "#**Palindrome**\n",
        "\n",
        "Write a function to check if a given number is a palindrome. \n",
        "\n",
        "Additional objective: Solve with a one liner"
      ]
    },
    {
      "cell_type": "code",
      "metadata": {
        "id": "ej_DYbdbhHZ-"
      },
      "source": [
        "def is_pallindrome(n):\n",
        "  temp = n\n",
        "  rev = 0\n",
        "  while n > 0:\n",
        "      a = n % 10\n",
        "      rev = rev*10 + a\n",
        "      n = n // 10\n",
        "\n",
        "  if rev == temp:\n",
        "      return True\n",
        "  else:\n",
        "      return False"
      ],
      "execution_count": null,
      "outputs": []
    },
    {
      "cell_type": "code",
      "metadata": {
        "id": "eggF8GBsgKZt"
      },
      "source": [
        "def is_pallindrome_1liner(n):\n",
        "  return True if n == int(str(n)[::-1]) else False"
      ],
      "execution_count": null,
      "outputs": []
    },
    {
      "cell_type": "code",
      "metadata": {
        "colab": {
          "base_uri": "https://localhost:8080/"
        },
        "id": "QkqNmMbChXFJ",
        "outputId": "0355e589-036c-461f-8d23-b3003048d3e5"
      },
      "source": [
        "print(is_pallindrome(12221))\n",
        "print(is_pallindrome(12345))"
      ],
      "execution_count": null,
      "outputs": [
        {
          "output_type": "stream",
          "name": "stdout",
          "text": [
            "True\n",
            "False\n"
          ]
        }
      ]
    },
    {
      "cell_type": "code",
      "metadata": {
        "colab": {
          "base_uri": "https://localhost:8080/"
        },
        "id": "PBCiY8pigyur",
        "outputId": "b30eb06d-51f4-4483-f1b2-802c6545c8c4"
      },
      "source": [
        "print(is_pallindrome_1liner(12221))\n",
        "print(is_pallindrome_1liner(12345))"
      ],
      "execution_count": null,
      "outputs": [
        {
          "output_type": "stream",
          "name": "stdout",
          "text": [
            "True\n",
            "False\n"
          ]
        }
      ]
    },
    {
      "cell_type": "markdown",
      "metadata": {
        "id": "RVKng6krkMEe"
      },
      "source": [
        "# **Prime Number**\n",
        "Given a number 'n', write a function in python to check wether the number is prime or not."
      ]
    },
    {
      "cell_type": "code",
      "metadata": {
        "id": "RFdHmdqOkMh-"
      },
      "source": [
        "def isPrime(num):\n",
        "  # If given number is greater than 1\n",
        "  if num > 1:\n",
        "      # Iterate from 2 to n / 2\n",
        "      for i in range(2, int(num/2)+1):\n",
        "          # If num is divisible by any number between\n",
        "          # 2 and n / 2, it is not prime\n",
        "          if (num % i) == 0:\n",
        "              return False\n",
        "      else:\n",
        "          return True\n",
        "  else:\n",
        "      return False"
      ],
      "execution_count": null,
      "outputs": []
    },
    {
      "cell_type": "code",
      "metadata": {
        "colab": {
          "base_uri": "https://localhost:8080/"
        },
        "id": "9EWP7c0ekpQ7",
        "outputId": "4f570275-f190-4ccf-dd3d-6c812ec6f679"
      },
      "source": [
        "print(isPrime(11))\n",
        "print(isPrime(222))\n",
        "print(isPrime(7727))\n",
        "print(isPrime(190000))\n",
        "print(isPrime(1))"
      ],
      "execution_count": null,
      "outputs": [
        {
          "output_type": "stream",
          "name": "stdout",
          "text": [
            "True\n",
            "False\n",
            "True\n",
            "False\n",
            "False\n"
          ]
        }
      ]
    },
    {
      "cell_type": "markdown",
      "metadata": {
        "id": "NPcwsDxGhtWB"
      },
      "source": [
        "# **3rd order Armstrong Number**\n",
        "\n",
        "Write a program to take in an input and check wether it is an Armstrong number of order 3. A positive integer is called an Armstrong number of order 'n' if\n",
        "\n",
        "abcd... = a^n + b^n + c^n + d^n + ...\n",
        "\n",
        "For example, \n",
        "153 = (1 * 1 * 1) + (5 * 5 * 5) + (3 * 3  *3)  // 153 is an Armstrong number."
      ]
    },
    {
      "cell_type": "code",
      "metadata": {
        "colab": {
          "base_uri": "https://localhost:8080/"
        },
        "id": "VssAMG6Gg4dj",
        "outputId": "8d316775-43af-4486-9de0-fa9e22725060"
      },
      "source": [
        "# take input from the user\n",
        "num = int(input(\"Enter a number: \"))\n",
        "\n",
        "# initialize sum\n",
        "sum = 0\n",
        "\n",
        "# find the sum of the cube of each digit\n",
        "temp = num\n",
        "while temp > 0:\n",
        "   digit = temp % 10\n",
        "   sum += digit ** 3\n",
        "   temp //= 10\n",
        "\n",
        "# display the result\n",
        "if num == sum:\n",
        "   print(num,\"is an Armstrong number\")\n",
        "else:\n",
        "   print(num,\"is not an Armstrong number\")"
      ],
      "execution_count": null,
      "outputs": [
        {
          "output_type": "stream",
          "name": "stdout",
          "text": [
            "Enter a number: 153\n",
            "153 is an Armstrong number\n"
          ]
        }
      ]
    },
    {
      "cell_type": "markdown",
      "metadata": {
        "id": "eLk7bOBOlrB2"
      },
      "source": [
        "# **Fibonacci Number**\n",
        "In mathematical terms, the sequence Fn of Fibonacci numbers is defined by the recurrence relation \n",
        "\n",
        "Fn = Fn-1 + Fn-2\n",
        "\n",
        "Print the nth Fibonacci number"
      ]
    },
    {
      "cell_type": "code",
      "metadata": {
        "colab": {
          "base_uri": "https://localhost:8080/"
        },
        "id": "LN5P31w7hrFN",
        "outputId": "ff941619-8660-499d-9f63-b4b3829b009c"
      },
      "source": [
        "# Function for nth fibonacci number - Dynamic Programing\n",
        "# Taking 1st two fibonacci nubers as 0 and 1\n",
        "def fibonacci(n):\n",
        "    a = 0\n",
        "    b = 1\n",
        "    if n < 0:\n",
        "        print(\"Incorrect input\")\n",
        "    elif n == 0:\n",
        "        return a\n",
        "    elif n == 1:\n",
        "        return b\n",
        "    else:\n",
        "        for i in range(2,n):\n",
        "            c = a + b\n",
        "            a = b\n",
        "            b = c\n",
        "        return b\n",
        "print(fibonacci(9))"
      ],
      "execution_count": null,
      "outputs": [
        {
          "output_type": "stream",
          "name": "stdout",
          "text": [
            "21\n"
          ]
        }
      ]
    },
    {
      "cell_type": "code",
      "metadata": {
        "colab": {
          "base_uri": "https://localhost:8080/"
        },
        "id": "lJ8ihyvohsUB",
        "outputId": "378d2d02-6dd1-456c-b857-1fe5ade206c3"
      },
      "source": [
        "for i in range(2, 10):\n",
        "  print(fibonacci(i), end = \" \")"
      ],
      "execution_count": null,
      "outputs": [
        {
          "output_type": "stream",
          "name": "stdout",
          "text": [
            "1 1 2 3 5 8 13 21 "
          ]
        }
      ]
    },
    {
      "cell_type": "markdown",
      "metadata": {
        "id": "O9lk3TAonoJz"
      },
      "source": [
        "# **Binary Search**\n",
        "In a nutshell, this search algorithm takes advantage of a collection of elements that is already sorted by ignoring half of the elements after just one comparison. \n",
        "<ol>\n",
        "    <li> Compare x with the middle element. </li>\n",
        "    <li> If x matches with the middle element, we return the mid index. </li>\n",
        "    <li> Else if x is greater than the mid element, then x can only lie in the right (greater) half subarray after the mid element. Then we apply the algorithm again for the right half. </li>\n",
        "    <li> Else if x is smaller, the target x must lie in the left (lower) half. So we apply the algorithm for the left half. </li>\n",
        "</ol>"
      ]
    },
    {
      "cell_type": "code",
      "metadata": {
        "colab": {
          "base_uri": "https://localhost:8080/"
        },
        "id": "rckNgL8ZnH9w",
        "outputId": "ccdfbbff-8370-440b-e9fe-d0b2c602380e"
      },
      "source": [
        "# It returns index of x in given array arr if present,\n",
        "# else returns -1\n",
        "def binary_search(arr, x):\n",
        "    low = 0\n",
        "    high = len(arr) - 1\n",
        "    mid = 0\n",
        "    while low <= high:\n",
        "        mid = (high + low) // 2\n",
        "        # If x is greater, ignore left half\n",
        "        if arr[mid] < x:\n",
        "            low = mid + 1\n",
        "        # If x is smaller, ignore right half\n",
        "        elif arr[mid] > x:\n",
        "            high = mid - 1\n",
        "        # means x is present at mid\n",
        "        else:\n",
        "            return mid\n",
        "    # If we reach here, then the element was not present\n",
        "    return -1\n",
        "# Test array\n",
        "arr = [ 2, 3, 4, 10, 40 ]\n",
        "x = 10\n",
        "# Function call\n",
        "result = binary_search(arr, x)\n",
        "if result != -1:\n",
        "    print(\"Element is present at index\", str(result))\n",
        "else:\n",
        "    print(\"Element is not present in array\")"
      ],
      "execution_count": null,
      "outputs": [
        {
          "output_type": "stream",
          "name": "stdout",
          "text": [
            "Element is present at index 3\n"
          ]
        }
      ]
    },
    {
      "cell_type": "code",
      "metadata": {
        "id": "QqCa_jKRnxvJ"
      },
      "source": [
        ""
      ],
      "execution_count": null,
      "outputs": []
    }
  ]
}