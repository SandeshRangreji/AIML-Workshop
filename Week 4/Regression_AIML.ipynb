{
  "nbformat": 4,
  "nbformat_minor": 0,
  "metadata": {
    "colab": {
      "name": "Regression_AIML.ipynb",
      "provenance": [],
      "collapsed_sections": []
    },
    "kernelspec": {
      "name": "python3",
      "display_name": "Python 3"
    },
    "language_info": {
      "name": "python"
    }
  },
  "cells": [
    {
      "cell_type": "markdown",
      "metadata": {
        "id": "ItnFdVOgoIiN"
      },
      "source": [
        "## **Linear Regression**"
      ]
    },
    {
      "cell_type": "code",
      "metadata": {
        "colab": {
          "base_uri": "https://localhost:8080/",
          "height": 466
        },
        "id": "QPbEMjyBn8Wv",
        "outputId": "6dbda438-fae0-484b-d901-c8a541ce102b"
      },
      "source": [
        "import numpy as np\n",
        "import matplotlib.pyplot as plt\n",
        "from sklearn import datasets\n",
        "\n",
        "diabetes = datasets.load_diabetes()\n",
        "\n",
        "X = diabetes.data[:, np.newaxis, 2]\n",
        "Y = diabetes.target\n",
        "\n",
        "print(\"X shape : \", X.shape)\n",
        "print(\"Y shape : \", Y.shape)\n",
        "print()\n",
        "\n",
        "from sklearn.model_selection import train_test_split\n",
        "X_train, X_test, Y_train, Y_test = train_test_split(X, Y, random_state = 0, test_size = 0.2)\n",
        "\n",
        "print(\"X_train size : \", X_train.shape)\n",
        "print(\"Y_train size : \", Y_train.shape)\n",
        "print(\"X_test size  : \", X_test.shape)\n",
        "print(\"Y_test size  : \", Y_test.shape)\n",
        "print()\n",
        "\n",
        "from sklearn import linear_model\n",
        "model = linear_model.LinearRegression()\n",
        "model.fit(X_train, Y_train)\n",
        "y_pred = model.predict(X_test)\n",
        "\n",
        "from sklearn.metrics import  mean_squared_error\n",
        "print(\"Mean Squared Error : \", mean_squared_error(Y_test, y_pred))\n",
        "print(\"Weights : \", model.coef_)\n",
        "print(\"Intercept : \", model.intercept_)\n",
        "\n",
        "from sklearn.metrics import r2_score\n",
        "score = r2_score(Y_test,y_pred)\n",
        "print(\"Score : \", score)\n",
        "\n",
        "plt.scatter(X_test, Y_test)\n",
        "plt.plot(X_test, y_pred)"
      ],
      "execution_count": 1,
      "outputs": [
        {
          "output_type": "stream",
          "text": [
            "X shape :  (442, 1)\n",
            "Y shape :  (442,)\n",
            "\n",
            "X_train size :  (353, 1)\n",
            "Y_train size :  (353,)\n",
            "X_test size  :  (89, 1)\n",
            "Y_test size  :  (89,)\n",
            "Mean Squared Error :  4150.680189329983\n",
            "Weights :  [981.65543614]\n",
            "Intercept :  152.28824927379625\n",
            "Score :  0.19057346847560164\n"
          ],
          "name": "stdout"
        },
        {
          "output_type": "execute_result",
          "data": {
            "text/plain": [
              "[<matplotlib.lines.Line2D at 0x7f566487a350>]"
            ]
          },
          "metadata": {
            "tags": []
          },
          "execution_count": 1
        },
        {
          "output_type": "display_data",
          "data": {
            "image/png": "[encoded data removed]",
            "text/plain": [
              "<Figure size 432x288 with 1 Axes>"
            ]
          },
          "metadata": {
            "tags": [],
            "needs_background": "light"
          }
        }
      ]
    },
    {
      "cell_type": "code",
      "metadata": {
        "id": "moly2JjDxXfU"
      },
      "source": [
        ""
      ],
      "execution_count": 28,
      "outputs": []
    },
    {
      "cell_type": "markdown",
      "metadata": {
        "id": "I6TDodU9yBDh"
      },
      "source": [
        "## Multivariable Linear Regression"
      ]
    },
    {
      "cell_type": "code",
      "metadata": {
        "colab": {
          "base_uri": "https://localhost:8080/"
        },
        "id": "ZrxETp85yFUR",
        "outputId": "d3149efc-3283-410b-e08b-e3c51941b219"
      },
      "source": [
        "diabetes = datasets.load_diabetes()\n",
        "\n",
        "X = diabetes.data\n",
        "Y = diabetes.target\n",
        "\n",
        "from sklearn.model_selection import train_test_split\n",
        "X_train, X_test, Y_train, Y_test = train_test_split(X, Y, random_state = 0, test_size = 0.2)\n",
        "\n",
        "from sklearn import linear_model\n",
        "\n",
        "model = linear_model.LinearRegression()\n",
        "model.fit(X_train, Y_train)\n",
        "y_pred = model.predict(X_test)\n",
        "\n",
        "from sklearn.metrics import  mean_squared_error\n",
        "print(\"Mean Squared Error : \", mean_squared_error(Y_test, y_pred))\n",
        "\n",
        "print(\"Weights : \", model.coef_)\n",
        "print(\"Intercept : \", model.intercept_)\n",
        "\n",
        "from sklearn.metrics import r2_score\n",
        "score = r2_score(Y_test,y_pred)\n",
        "print(\"Score : \", score)"
      ],
      "execution_count": 2,
      "outputs": [
        {
          "output_type": "stream",
          "text": [
            "Mean Squared Error :  3424.3166882137334\n",
            "Weights :  [ -35.55683674 -243.1692265   562.75404632  305.47203008 -662.78772128\n",
            "  324.27527477   24.78193291  170.33056502  731.67810787   43.02846824]\n",
            "Intercept :  152.5381335195406\n",
            "Score :  0.33222203269065154\n"
          ],
          "name": "stdout"
        }
      ]
    },
    {
      "cell_type": "code",
      "metadata": {
        "id": "D2dcJiikyiVV"
      },
      "source": [
        ""
      ],
      "execution_count": null,
      "outputs": []
    },
    {
      "cell_type": "markdown",
      "metadata": {
        "id": "HWeCCeVQ0kMM"
      },
      "source": [
        "## **Logistic Regression**"
      ]
    },
    {
      "cell_type": "code",
      "metadata": {
        "colab": {
          "base_uri": "https://localhost:8080/",
          "height": 298
        },
        "id": "-fvSN_3T0n5O",
        "outputId": "bde06a8d-ec15-4001-ca0e-8b2d65a88163"
      },
      "source": [
        "# Train a logistic regression classifier to predict whether a flower is iris virginica or not\n",
        "from sklearn import datasets\n",
        "from sklearn.linear_model import LogisticRegression\n",
        "import numpy as np\n",
        "import matplotlib.pyplot as plt\n",
        "\n",
        "iris = datasets.load_iris()\n",
        "# print(list(iris.keys()))\n",
        "print(iris['data'].shape)\n",
        "# print(iris['target'])\n",
        "# print(iris['DESCR'])\n",
        "\n",
        "X = iris[\"data\"][:, 3:]\n",
        "y = (iris[\"target\"] == 2).astype(np.int)\n",
        "\n",
        "# Train a logistic regression classifier\n",
        "clf = LogisticRegression()\n",
        "clf.fit(X,y)\n",
        "example = clf.predict_proba(([[1.6]]))\n",
        "print(example)\n",
        "\n",
        "# Using matplotlib to plot the visualization\n",
        "X_test = np.linspace(0,3,1000).reshape(-1,1)\n",
        "y_pred_prob = clf.predict_proba(X_test)\n",
        "y_pred = clf.predict(X_test)\n",
        "\n",
        "plt.plot(X_test, y_pred_prob[:,1], \"r-\", label=\"virginica\")\n",
        "plt.show()\n",
        "\n",
        "\n",
        "# print(y)\n",
        "# print(iris[\"data\"])\n",
        "# print(X)"
      ],
      "execution_count": 21,
      "outputs": [
        {
          "output_type": "stream",
          "text": [
            "(150, 4)\n",
            "[[0.56507207 0.43492793]]\n"
          ],
          "name": "stdout"
        },
        {
          "output_type": "display_data",
          "data": {
            "image/png": "[encoded data removed]",
            "text/plain": [
              "<Figure size 432x288 with 1 Axes>"
            ]
          },
          "metadata": {
            "tags": [],
            "needs_background": "light"
          }
        }
      ]
    },
    {
      "cell_type": "code",
      "metadata": {
        "id": "SRZ0g0Lh3Pnv"
      },
      "source": [
        ""
      ],
      "execution_count": null,
      "outputs": []
    }
  ]
}