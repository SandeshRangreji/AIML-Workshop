{
  "nbformat": 4,
  "nbformat_minor": 0,
  "metadata": {
    "kernelspec": {
      "display_name": "Python 3",
      "language": "python",
      "name": "python3"
    },
    "language_info": {
      "codemirror_mode": {
        "name": "ipython",
        "version": 3
      },
      "file_extension": ".py",
      "mimetype": "text/x-python",
      "name": "python",
      "nbconvert_exporter": "python",
      "pygments_lexer": "ipython3",
      "version": "3.7.3"
    },
    "colab": {
      "name": "Numpy.ipynb",
      "provenance": [],
      "collapsed_sections": [
        "9HLWqt_9tuqE",
        "S9a-mE1otuqI",
        "ymefBPZItuqI"
      ],
      "include_colab_link": true
    }
  },
  "cells": [
    {
      "cell_type": "markdown",
      "metadata": {
        "id": "view-in-github",
        "colab_type": "text"
      },
      "source": [
        "<a href=\"https://colab.research.google.com/github/SandeshRangreji/AIML-Workshop/blob/main/Session%203/Numpy_introduction.ipynb\" target=\"_parent\"><img src=\"https://colab.research.google.com/assets/colab-badge.svg\" alt=\"Open In Colab\"/></a>"
      ]
    },
    {
      "cell_type": "markdown",
      "metadata": {
        "id": "7PB7r1VMtup3"
      },
      "source": [
        "# NumPy\n",
        "\n",
        "NumPy is a Python library used for working with vectors and matrices (n-dimensional arrays). It is also used for working in the domain of linear algebra. NumPy stands for Numerical Python.\n",
        "\n",
        "## Why do we use Numpy?\n",
        "\n",
        "Lists also work as arrays, but they are very slow to process. NumPy provides an array object that are around 50 times faster than traditional Python Lists.\n",
        "How is NumPy faster?\n",
        "<ul>\n",
        "    <li> The arrays are stored at one contiguous place in memory unlike lists, so processes can access and manipulate them efficiently. </li>\n",
        "    <li> NumPy is optimized to work with the latest CPU architecture. </li>\n",
        "    <li> Most parts of the library that require fast computation are written in C or C++. </li>\n",
        "</ul>"
      ]
    },
    {
      "cell_type": "markdown",
      "metadata": {
        "id": "zCi320nwtup6"
      },
      "source": [
        "## Note:\n",
        "\n",
        "Another crucial reason why we prefer NumPy is it's ability to perform mathematical functions on vectors and matrices instead of singular numbers."
      ]
    },
    {
      "cell_type": "code",
      "metadata": {
        "id": "KcbNaWYBtup6"
      },
      "source": [
        "import math\n",
        "import numpy as np"
      ],
      "execution_count": null,
      "outputs": []
    },
    {
      "cell_type": "markdown",
      "metadata": {
        "id": "AMR5jePvtup7"
      },
      "source": [
        "## Introduction to NumPy"
      ]
    },
    {
      "cell_type": "code",
      "metadata": {
        "colab": {
          "base_uri": "https://localhost:8080/"
        },
        "id": "tGIWlEEctup7",
        "outputId": "8cb28ff6-2aab-4395-f400-144e4e7d0868"
      },
      "source": [
        "# creating a NumPy array \n",
        "arr1 = np.array([1,2,3,4])\n",
        "arr2 = np.array([1,2,3,4], dtype = np.float32)\n",
        "arr3 = np.array([[1,2,3,4],[5,6,7,8]])\n",
        "print(arr1, arr2)\n",
        "print(arr3)"
      ],
      "execution_count": null,
      "outputs": [
        {
          "output_type": "stream",
          "name": "stdout",
          "text": [
            "[1 2 3 4] [1. 2. 3. 4.]\n",
            "[[1 2 3 4]\n",
            " [5 6 7 8]]\n"
          ]
        }
      ]
    },
    {
      "cell_type": "code",
      "metadata": {
        "colab": {
          "base_uri": "https://localhost:8080/"
        },
        "id": "l2FJKrD6tup8",
        "outputId": "6bd7689b-facb-4264-e19f-aa3b1d4dbf9a"
      },
      "source": [
        "# initializing an array of zeroes or ones or random numbers\n",
        "arr1 = np.zeros(5)\n",
        "arr2 = np.zeros((2,3))\n",
        "arr3 = np.ones(5,dtype=np.int32)\n",
        "arr4 = np.random.rand(2,3)\n",
        "print(arr1)\n",
        "print(arr2)\n",
        "print(arr3)\n",
        "print(arr4)"
      ],
      "execution_count": null,
      "outputs": [
        {
          "output_type": "stream",
          "name": "stdout",
          "text": [
            "[0. 0. 0. 0. 0.]\n",
            "[[0. 0. 0.]\n",
            " [0. 0. 0.]]\n",
            "[1 1 1 1 1]\n",
            "[[0.60728336 0.08901457 0.56573212]\n",
            " [0.74189167 0.59383644 0.23926323]]\n"
          ]
        }
      ]
    },
    {
      "cell_type": "markdown",
      "metadata": {
        "id": "Ky6-SWJvtup9"
      },
      "source": [
        "## Shape and Reshaping"
      ]
    },
    {
      "cell_type": "code",
      "metadata": {
        "colab": {
          "base_uri": "https://localhost:8080/"
        },
        "id": "oakIkmJFtup9",
        "outputId": "ba55cc8d-6c88-47b8-f005-8b1db33bdbab"
      },
      "source": [
        "# number of axis\n",
        "a = np.array([[5,10,15],[20,25,20]])\n",
        "print('Array :','\\n',a)\n",
        "print('Dimensions :','\\n',a.ndim)"
      ],
      "execution_count": null,
      "outputs": [
        {
          "output_type": "stream",
          "name": "stdout",
          "text": [
            "Array : \n",
            " [[ 5 10 15]\n",
            " [20 25 20]]\n",
            "Dimensions : \n",
            " 2\n"
          ]
        }
      ]
    },
    {
      "cell_type": "code",
      "metadata": {
        "colab": {
          "base_uri": "https://localhost:8080/"
        },
        "id": "pSMp9txatup9",
        "outputId": "628132ce-9f89-46bc-b399-7413691842bf"
      },
      "source": [
        "a = np.array([[1,2,3],[4,5,6]])\n",
        "print('Array :','\\n',a)\n",
        "print('Shape :','\\n',a.shape)\n",
        "print('Rows = ',a.shape[0])\n",
        "print('Columns = ',a.shape[1])"
      ],
      "execution_count": null,
      "outputs": [
        {
          "output_type": "stream",
          "name": "stdout",
          "text": [
            "Array : \n",
            " [[1 2 3]\n",
            " [4 5 6]]\n",
            "Shape : \n",
            " (2, 3)\n",
            "Rows =  2\n",
            "Columns =  3\n"
          ]
        }
      ]
    },
    {
      "cell_type": "code",
      "metadata": {
        "colab": {
          "base_uri": "https://localhost:8080/"
        },
        "id": "-p9bjoMVtup9",
        "outputId": "317d4c3d-b960-4654-d9f5-cf63e1485bec"
      },
      "source": [
        "# size of array\n",
        "a = np.array([[5,10,15],[20,25,20]])\n",
        "print('Size of array :',a.size)\n",
        "print('Manual determination of size of array :',a.shape[0]*a.shape[1])"
      ],
      "execution_count": null,
      "outputs": [
        {
          "output_type": "stream",
          "name": "stdout",
          "text": [
            "Size of array : 6\n",
            "Manual determination of size of array : 6\n"
          ]
        }
      ]
    },
    {
      "cell_type": "code",
      "metadata": {
        "colab": {
          "base_uri": "https://localhost:8080/"
        },
        "id": "0llftbTBtup-",
        "outputId": "ceb91ce9-8f6b-4a3a-e990-b053dc9f4ee2"
      },
      "source": [
        "# reshape\n",
        "a = np.array([3,6,9,12])\n",
        "np.reshape(a,(2,2))"
      ],
      "execution_count": null,
      "outputs": [
        {
          "output_type": "execute_result",
          "data": {
            "text/plain": [
              "array([[ 3,  6],\n",
              "       [ 9, 12]])"
            ]
          },
          "metadata": {},
          "execution_count": 7
        }
      ]
    },
    {
      "cell_type": "code",
      "metadata": {
        "colab": {
          "base_uri": "https://localhost:8080/"
        },
        "id": "bBhI_A8L9-In",
        "outputId": "8b9eed07-ed4f-4fe7-a92e-2b9b943000f8"
      },
      "source": [
        "# not inplace\n",
        "print(a)"
      ],
      "execution_count": null,
      "outputs": [
        {
          "output_type": "stream",
          "name": "stdout",
          "text": [
            "[ 3  6  9 12]\n"
          ]
        }
      ]
    },
    {
      "cell_type": "code",
      "metadata": {
        "id": "IVihE5DG-FPm"
      },
      "source": [
        "# dimensions need to match size of the array\n",
        "np.reshape(a,(2,3))"
      ],
      "execution_count": null,
      "outputs": []
    },
    {
      "cell_type": "code",
      "metadata": {
        "id": "CPAdU2a2tup-"
      },
      "source": [
        "a = np.array([3,6,9,12,18,24])\n",
        "print('Three rows :','\\n',np.reshape(a,(3,-1)))\n",
        "print('Three columns :','\\n',np.reshape(a,(-1,3)))"
      ],
      "execution_count": null,
      "outputs": []
    },
    {
      "cell_type": "code",
      "metadata": {
        "id": "PYk1PNCbtup-",
        "outputId": "dcbfa516-06b9-49ae-a8c6-53a1ced2bbdf"
      },
      "source": [
        "# flattening\n",
        "a = np.ones((2,2))\n",
        "# flattening returns a copy of the original array\n",
        "# modifying b would not modify a\n",
        "b = a.flatten()\n",
        "# ravel returns a reference of the original array\n",
        "# modifying c would modify a\n",
        "c = a.ravel()\n",
        "print('Original shape :', a.shape)\n",
        "print('Array :','\\n', a)\n",
        "print('Shape after flatten :',b.shape)\n",
        "print('Array :','\\n', b)\n",
        "print('Shape after ravel :',c.shape)\n",
        "print('Array :','\\n', c)"
      ],
      "execution_count": null,
      "outputs": [
        {
          "name": "stdout",
          "output_type": "stream",
          "text": [
            "Original shape : (2, 2)\n",
            "Array : \n",
            " [[1. 1.]\n",
            " [1. 1.]]\n",
            "Shape after flatten : (4,)\n",
            "Array : \n",
            " [1. 1. 1. 1.]\n",
            "Shape after ravel : (4,)\n",
            "Array : \n",
            " [1. 1. 1. 1.]\n"
          ]
        }
      ]
    },
    {
      "cell_type": "code",
      "metadata": {
        "id": "eQgFNcANtup_",
        "outputId": "845fb411-89a8-4563-d698-c1c35158e1eb"
      },
      "source": [
        "# transpose\n",
        "a = np.array([[1,2,3],\n",
        "[4,5,6]])\n",
        "b = np.transpose(a)\n",
        "print('Original','\\n','Shape',a.shape,'\\n',a)\n",
        "print('Expand along columns:','\\n','Shape',b.shape,'\\n',b)"
      ],
      "execution_count": null,
      "outputs": [
        {
          "name": "stdout",
          "output_type": "stream",
          "text": [
            "Original \n",
            " Shape (2, 3) \n",
            " [[1 2 3]\n",
            " [4 5 6]]\n",
            "Expand along columns: \n",
            " Shape (3, 2) \n",
            " [[1 4]\n",
            " [2 5]\n",
            " [3 6]]\n"
          ]
        }
      ]
    },
    {
      "cell_type": "code",
      "metadata": {
        "id": "RXMlK_Emtup_",
        "outputId": "2571c336-f2c5-410d-b61f-0e1c7566ac7d"
      },
      "source": [
        "# expand dimensions\n",
        "a = np.array([1,2,3])\n",
        "b = np.expand_dims(a,axis=0)\n",
        "c = np.expand_dims(a,axis=1)\n",
        "print('Original:','\\n','Shape',a.shape,'\\n',a)\n",
        "print('Expand along columns:','\\n','Shape',b.shape,'\\n',b)\n",
        "print('Expand along rows:','\\n','Shape',c.shape,'\\n',c)"
      ],
      "execution_count": null,
      "outputs": [
        {
          "name": "stdout",
          "output_type": "stream",
          "text": [
            "Original: \n",
            " Shape (3,) \n",
            " [1 2 3]\n",
            "Expand along columns: \n",
            " Shape (1, 3) \n",
            " [[1 2 3]]\n",
            "Expand along rows: \n",
            " Shape (3, 1) \n",
            " [[1]\n",
            " [2]\n",
            " [3]]\n"
          ]
        }
      ]
    },
    {
      "cell_type": "code",
      "metadata": {
        "id": "tw7QE7o1tuqA",
        "outputId": "aa071dcb-53c4-45a7-b4d3-b69ce895a8bd"
      },
      "source": [
        "# squeeze\n",
        "a = np.array([[[1,2,3],\n",
        "[4,5,6]]])\n",
        "b = np.squeeze(a, axis=0)\n",
        "print('Original','\\n','Shape',a.shape,'\\n',a)\n",
        "print('Squeeze array:','\\n','Shape',b.shape,'\\n',b)"
      ],
      "execution_count": null,
      "outputs": [
        {
          "name": "stdout",
          "output_type": "stream",
          "text": [
            "Original \n",
            " Shape (1, 2, 3) \n",
            " [[[1 2 3]\n",
            "  [4 5 6]]]\n",
            "Squeeze array: \n",
            " Shape (2, 3) \n",
            " [[1 2 3]\n",
            " [4 5 6]]\n"
          ]
        }
      ]
    },
    {
      "cell_type": "markdown",
      "metadata": {
        "id": "-Tk9wvyytuqB"
      },
      "source": [
        "## Slicing"
      ]
    },
    {
      "cell_type": "code",
      "metadata": {
        "id": "TSZjlRMYtuqB",
        "outputId": "c07ab017-2664-4e3a-a41d-c6845cea896b"
      },
      "source": [
        "# 1-D slicing\n",
        "a = np.array([1,2,3,4,5,6])\n",
        "print(a[:6:2])\n",
        "print(a[1::2])\n",
        "print(a[1:6:])"
      ],
      "execution_count": null,
      "outputs": [
        {
          "name": "stdout",
          "output_type": "stream",
          "text": [
            "[1 3 5]\n",
            "[2 4 6]\n",
            "[2 3 4 5 6]\n"
          ]
        }
      ]
    },
    {
      "cell_type": "code",
      "metadata": {
        "id": "zhlcIs7rtuqB",
        "outputId": "b975d9b2-56ab-4d97-8a02-ba8305a98a8a"
      },
      "source": [
        "# 2-D element\n",
        "a = np.array([[1,2,3],\n",
        "[4,5,6]])\n",
        "print(a[0,0])\n",
        "print(a[1,2])\n",
        "print(a[1,0])"
      ],
      "execution_count": null,
      "outputs": [
        {
          "name": "stdout",
          "output_type": "stream",
          "text": [
            "1\n",
            "6\n",
            "4\n"
          ]
        }
      ]
    },
    {
      "cell_type": "code",
      "metadata": {
        "id": "8WRnQ-XHtuqC",
        "outputId": "bfbb8520-eadf-4bfb-fbdf-4f6b5130798b"
      },
      "source": [
        "# 2-D slicing\n",
        "a = np.array([[1,2,3],[4,5,6]])\n",
        "# print first row values\n",
        "print('First row values :','\\n',a[0:1,:])\n",
        "# with step-size for columns\n",
        "print('Alternate values from first row:','\\n',a[0:1,::2])\n",
        "# \n",
        "print('Second column values :','\\n',a[:,1::2])\n",
        "print('Arbitrary values :','\\n',a[0:1,1:3])"
      ],
      "execution_count": null,
      "outputs": [
        {
          "name": "stdout",
          "output_type": "stream",
          "text": [
            "First row values : \n",
            " [[1 2 3]]\n",
            "Alternate values from first row: \n",
            " [[1 3]]\n",
            "Second column values : \n",
            " [[2]\n",
            " [5]]\n",
            "Arbitrary values : \n",
            " [[2 3]]\n"
          ]
        }
      ]
    },
    {
      "cell_type": "code",
      "metadata": {
        "id": "6ED2pOzZtuqD",
        "outputId": "c4afccc1-fa5a-46f2-c64d-b639e0f035a8"
      },
      "source": [
        "# 3-D slicing\n",
        "a = np.array([[[1,2],[3,4],[5,6]],# first axis array\n",
        "[[7,8],[9,10],[11,12]],# second axis array\n",
        "[[13,14],[15,16],[17,18]]])# third axis array\n",
        "# 3-D array\n",
        "print(a)\n",
        "# value\n",
        "print('First array, first row, first column value :','\\n',a[0,0,0])\n",
        "print('First array last column :','\\n',a[0,:,1])\n",
        "print('First two rows for second and third arrays :','\\n',a[1:,0:2,0:2])\n",
        "print('Printing as a single array :','\\n',a[1:,0:2,0:2].flatten())"
      ],
      "execution_count": null,
      "outputs": [
        {
          "name": "stdout",
          "output_type": "stream",
          "text": [
            "[[[ 1  2]\n",
            "  [ 3  4]\n",
            "  [ 5  6]]\n",
            "\n",
            " [[ 7  8]\n",
            "  [ 9 10]\n",
            "  [11 12]]\n",
            "\n",
            " [[13 14]\n",
            "  [15 16]\n",
            "  [17 18]]]\n",
            "First array, first row, first column value : \n",
            " 1\n",
            "First array last column : \n",
            " [2 4 6]\n",
            "First two rows for second and third arrays : \n",
            " [[[ 7  8]\n",
            "  [ 9 10]]\n",
            "\n",
            " [[13 14]\n",
            "  [15 16]]]\n",
            "Printing as a single array : \n",
            " [ 7  8  9 10 13 14 15 16]\n"
          ]
        }
      ]
    },
    {
      "cell_type": "code",
      "metadata": {
        "id": "jYMd7uyptuqD",
        "colab": {
          "base_uri": "https://localhost:8080/"
        },
        "outputId": "02bd63e2-e557-407d-e54c-fcdf5f700bec"
      },
      "source": [
        "# negative slicing\n",
        "a = np.array([[1,2,3,4,5],\n",
        "[6,7,8,9,10]])\n",
        "print(a[:,-3])\n",
        "print(a[:,-1:-4:-2])"
      ],
      "execution_count": null,
      "outputs": [
        {
          "output_type": "stream",
          "name": "stdout",
          "text": [
            "[3 8]\n",
            "[[ 5  3]\n",
            " [10  8]]\n"
          ]
        }
      ]
    },
    {
      "cell_type": "markdown",
      "metadata": {
        "id": "xOfADRiituqD"
      },
      "source": [
        "## Reversing"
      ]
    },
    {
      "cell_type": "code",
      "metadata": {
        "id": "ItWaxNFvtuqE",
        "outputId": "d9a63a31-e81b-4c74-80a1-86e9aa9ffb1f"
      },
      "source": [
        "a = np.array([[1,2,3,4,5],\n",
        "[6,7,8,9,10]])\n",
        "print('Original array :','\\n',a)\n",
        "print('Reversed array :','\\n',a[::-1,::-1])"
      ],
      "execution_count": null,
      "outputs": [
        {
          "name": "stdout",
          "output_type": "stream",
          "text": [
            "Original array : \n",
            " [[ 1  2  3  4  5]\n",
            " [ 6  7  8  9 10]]\n",
            "Reversed array : \n",
            " [[10  9  8  7  6]\n",
            " [ 5  4  3  2  1]]\n"
          ]
        }
      ]
    },
    {
      "cell_type": "code",
      "metadata": {
        "id": "1SbtbhUktuqE",
        "outputId": "6e018c16-e6a6-4e59-bfb5-73b9085a3b23"
      },
      "source": [
        "a = np.array([[1,2,3,4,5],\n",
        "[6,7,8,9,10]])\n",
        "print('Original array :','\\n',a)\n",
        "print('Reversed array vertically :','\\n',np.flip(a,axis=1))\n",
        "print('Reversed array horizontally :','\\n',np.flip(a,axis=0))"
      ],
      "execution_count": null,
      "outputs": [
        {
          "name": "stdout",
          "output_type": "stream",
          "text": [
            "Original array : \n",
            " [[ 1  2  3  4  5]\n",
            " [ 6  7  8  9 10]]\n",
            "Reversed array vertically : \n",
            " [[ 5  4  3  2  1]\n",
            " [10  9  8  7  6]]\n",
            "Reversed array horizontally : \n",
            " [[ 6  7  8  9 10]\n",
            " [ 1  2  3  4  5]]\n"
          ]
        }
      ]
    },
    {
      "cell_type": "markdown",
      "metadata": {
        "id": "9HLWqt_9tuqE"
      },
      "source": [
        "## Stacking and Concatenating "
      ]
    },
    {
      "cell_type": "code",
      "metadata": {
        "id": "xR002Yz0tuqE",
        "outputId": "9384d7cc-05be-4117-b5a8-39b46ee25148"
      },
      "source": [
        "# stacking\n",
        "a = np.arange(0,5)\n",
        "b = np.arange(5,10)\n",
        "print('Array 1 :','\\n',a)\n",
        "print('Array 2 :','\\n',b)\n",
        "print('Vertical stacking :','\\n',np.vstack((a,b)))\n",
        "print('Horizontal stacking :','\\n',np.hstack((a,b)))\n",
        "print('D stacking :','\\n',np.dstack((a,b)))"
      ],
      "execution_count": null,
      "outputs": [
        {
          "name": "stdout",
          "output_type": "stream",
          "text": [
            "Array 1 : \n",
            " [0 1 2 3 4]\n",
            "Array 2 : \n",
            " [5 6 7 8 9]\n",
            "Vertical stacking : \n",
            " [[0 1 2 3 4]\n",
            " [5 6 7 8 9]]\n",
            "Horizontal stacking : \n",
            " [0 1 2 3 4 5 6 7 8 9]\n",
            "D stacking : \n",
            " [[[0 5]\n",
            "  [1 6]\n",
            "  [2 7]\n",
            "  [3 8]\n",
            "  [4 9]]]\n"
          ]
        }
      ]
    },
    {
      "cell_type": "code",
      "metadata": {
        "id": "HFYVpKd2tuqE",
        "outputId": "97a98066-97e5-4a27-84aa-a111850cb466"
      },
      "source": [
        "# concatenating\n",
        "a = np.arange(0,5).reshape(1,5)\n",
        "b = np.arange(5,10).reshape(1,5)\n",
        "print('Array 1 :','\\n',a)\n",
        "print('Array 2 :','\\n',b)\n",
        "print('Concatenate along rows :','\\n',np.concatenate((a,b),axis=0))\n",
        "print('Concatenate along columns :','\\n',np.concatenate((a,b),axis=1))"
      ],
      "execution_count": null,
      "outputs": [
        {
          "name": "stdout",
          "output_type": "stream",
          "text": [
            "Array 1 : \n",
            " [[0 1 2 3 4]]\n",
            "Array 2 : \n",
            " [[5 6 7 8 9]]\n",
            "Concatenate along rows : \n",
            " [[0 1 2 3 4]\n",
            " [5 6 7 8 9]]\n",
            "Concatenate along columns : \n",
            " [[0 1 2 3 4 5 6 7 8 9]]\n"
          ]
        }
      ]
    },
    {
      "cell_type": "markdown",
      "metadata": {
        "id": "9UKI0z-ltuqF"
      },
      "source": [
        "## Broadcasting"
      ]
    },
    {
      "cell_type": "code",
      "metadata": {
        "id": "5-WwxQudtuqF",
        "outputId": "a62180c1-5a1f-46bc-86c0-72f6649c3ee5"
      },
      "source": [
        "a = np.array([10, 12, 14, 16, 18])\n",
        "b = np.array([[2],[3]])\n",
        "print(\"A shape:\",a.shape)\n",
        "print(\"B shape:\",b.shape)\n",
        "print('Adding two different size arrays :','\\n',a+b)\n",
        "print('Multiplying an ndarray and a number :',a*2)"
      ],
      "execution_count": null,
      "outputs": [
        {
          "name": "stdout",
          "output_type": "stream",
          "text": [
            "A shape: (5,)\n",
            "B shape: (2, 1)\n",
            "Adding two different size arrays : \n",
            " [[12 14 16 18 20]\n",
            " [13 15 17 19 21]]\n",
            "Multiplying an ndarray and a number : [20 24 28 32 36]\n"
          ]
        }
      ]
    },
    {
      "cell_type": "code",
      "metadata": {
        "id": "lbBBfMFctuqF",
        "outputId": "13632b81-f717-4a89-f80a-4f4ecec70dda"
      },
      "source": [
        "# basic arithmetic\n",
        "print('Subtract :',a-5)\n",
        "print('Multiply :',a*5)\n",
        "print('Divide :',a/5)\n",
        "print('Power :',a**2)\n",
        "print('Remainder :',a%5)"
      ],
      "execution_count": null,
      "outputs": [
        {
          "name": "stdout",
          "output_type": "stream",
          "text": [
            "Subtract : [ 5  7  9 11 13]\n",
            "Multiply : [50 60 70 80 90]\n",
            "Divide : [2.  2.4 2.8 3.2 3.6]\n",
            "Power : [100 144 196 256 324]\n",
            "Remainder : [0 2 4 1 3]\n"
          ]
        }
      ]
    },
    {
      "cell_type": "code",
      "metadata": {
        "id": "4nFv8FiRtuqF",
        "outputId": "7a8eb24f-594e-4d5b-a757-393f0a67944d"
      },
      "source": [
        "# statistical functions\n",
        "a = np.arange(5,15,2)\n",
        "print('Mean :',np.mean(a))\n",
        "print('Standard deviation :',np.std(a))\n",
        "print('Median :',np.median(a))"
      ],
      "execution_count": null,
      "outputs": [
        {
          "name": "stdout",
          "output_type": "stream",
          "text": [
            "Mean : 9.0\n",
            "Standard deviation : 2.8284271247461903\n",
            "Median : 9.0\n"
          ]
        }
      ]
    },
    {
      "cell_type": "code",
      "metadata": {
        "id": "QMeyq2fgtuqG",
        "outputId": "476fa78d-716a-4f19-ead5-36e0ffafc028"
      },
      "source": [
        "# min-max \n",
        "a = np.array([[1,6],\n",
        "[4,3]])\n",
        "# minimum along a column\n",
        "print('Min :',np.min(a,axis=0))\n",
        "# maximum along a row\n",
        "print('Max :',np.max(a,axis=1))"
      ],
      "execution_count": null,
      "outputs": [
        {
          "name": "stdout",
          "output_type": "stream",
          "text": [
            "Min : [1 3]\n",
            "Max : [6 4]\n"
          ]
        }
      ]
    },
    {
      "cell_type": "code",
      "metadata": {
        "id": "kadwq2vPtuqG",
        "outputId": "81cd7eba-56a3-4296-e131-2b3069ab2a55"
      },
      "source": [
        "# min-max arguments\n",
        "a = np.array([[1,6,5],\n",
        "[4,3,7]])\n",
        "# minimum along a column\n",
        "print('Min :',np.argmin(a,axis=0))\n",
        "# maximum along a row\n",
        "print('Max :',np.argmax(a,axis=1))"
      ],
      "execution_count": null,
      "outputs": [
        {
          "name": "stdout",
          "output_type": "stream",
          "text": [
            "Min : [0 1 0]\n",
            "Max : [1 2]\n"
          ]
        }
      ]
    },
    {
      "cell_type": "markdown",
      "metadata": {
        "id": "BUtz1iuDtuqG"
      },
      "source": [
        "## Custom functions"
      ]
    },
    {
      "cell_type": "code",
      "metadata": {
        "id": "w6s2RlB3tuqG"
      },
      "source": [
        "def basic_sigmoid(x):\n",
        "    s = 1.0 / (1 + math.exp(-x))\n",
        "    return s"
      ],
      "execution_count": null,
      "outputs": []
    },
    {
      "cell_type": "code",
      "metadata": {
        "id": "EU9jhE2ftuqH",
        "colab": {
          "base_uri": "https://localhost:8080/"
        },
        "outputId": "74a33063-2c81-4e84-bdde-4f1568169224"
      },
      "source": [
        "basic_sigmoid(36)"
      ],
      "execution_count": null,
      "outputs": [
        {
          "output_type": "execute_result",
          "data": {
            "text/plain": [
              "0.9999999999999998"
            ]
          },
          "metadata": {},
          "execution_count": 13
        }
      ]
    },
    {
      "cell_type": "code",
      "metadata": {
        "id": "YuwW5Q27tuqH",
        "colab": {
          "base_uri": "https://localhost:8080/",
          "height": 303
        },
        "outputId": "da1b3eba-57f1-4159-b1ec-fa292c4f4a0a"
      },
      "source": [
        "x = [1, 2, 3]\n",
        "# print(x + 3)\n",
        "basic_sigmoid(x)"
      ],
      "execution_count": null,
      "outputs": [
        {
          "output_type": "error",
          "ename": "TypeError",
          "evalue": "ignored",
          "traceback": [
            "\u001b[0;31m---------------------------------------------------------------------------\u001b[0m",
            "\u001b[0;31mTypeError\u001b[0m                                 Traceback (most recent call last)",
            "\u001b[0;32m<ipython-input-14-623148c57a5c>\u001b[0m in \u001b[0;36m<module>\u001b[0;34m()\u001b[0m\n\u001b[1;32m      1\u001b[0m \u001b[0mx\u001b[0m \u001b[0;34m=\u001b[0m \u001b[0;34m[\u001b[0m\u001b[0;36m1\u001b[0m\u001b[0;34m,\u001b[0m \u001b[0;36m2\u001b[0m\u001b[0;34m,\u001b[0m \u001b[0;36m3\u001b[0m\u001b[0;34m]\u001b[0m\u001b[0;34m\u001b[0m\u001b[0;34m\u001b[0m\u001b[0m\n\u001b[1;32m      2\u001b[0m \u001b[0;31m# print(x + 3)\u001b[0m\u001b[0;34m\u001b[0m\u001b[0;34m\u001b[0m\u001b[0;34m\u001b[0m\u001b[0m\n\u001b[0;32m----> 3\u001b[0;31m \u001b[0mbasic_sigmoid\u001b[0m\u001b[0;34m(\u001b[0m\u001b[0mx\u001b[0m\u001b[0;34m)\u001b[0m\u001b[0;34m\u001b[0m\u001b[0;34m\u001b[0m\u001b[0m\n\u001b[0m",
            "\u001b[0;32m<ipython-input-11-cac3b4d0f6e4>\u001b[0m in \u001b[0;36mbasic_sigmoid\u001b[0;34m(x)\u001b[0m\n\u001b[1;32m      1\u001b[0m \u001b[0;32mdef\u001b[0m \u001b[0mbasic_sigmoid\u001b[0m\u001b[0;34m(\u001b[0m\u001b[0mx\u001b[0m\u001b[0;34m)\u001b[0m\u001b[0;34m:\u001b[0m\u001b[0;34m\u001b[0m\u001b[0;34m\u001b[0m\u001b[0m\n\u001b[0;32m----> 2\u001b[0;31m     \u001b[0ms\u001b[0m \u001b[0;34m=\u001b[0m \u001b[0;36m1.0\u001b[0m \u001b[0;34m/\u001b[0m \u001b[0;34m(\u001b[0m\u001b[0;36m1\u001b[0m \u001b[0;34m+\u001b[0m \u001b[0mmath\u001b[0m\u001b[0;34m.\u001b[0m\u001b[0mexp\u001b[0m\u001b[0;34m(\u001b[0m\u001b[0;34m-\u001b[0m\u001b[0mx\u001b[0m\u001b[0;34m)\u001b[0m\u001b[0;34m)\u001b[0m\u001b[0;34m\u001b[0m\u001b[0;34m\u001b[0m\u001b[0m\n\u001b[0m\u001b[1;32m      3\u001b[0m     \u001b[0;32mreturn\u001b[0m \u001b[0ms\u001b[0m\u001b[0;34m\u001b[0m\u001b[0;34m\u001b[0m\u001b[0m\n",
            "\u001b[0;31mTypeError\u001b[0m: bad operand type for unary -: 'list'"
          ]
        }
      ]
    },
    {
      "cell_type": "code",
      "metadata": {
        "id": "j2PTIS1UtuqH",
        "outputId": "0abcf385-0094-4ed5-d0da-90b19028cb6f"
      },
      "source": [
        "x = np.array([1, 2, 3])\n",
        "print(np.exp(x))\n",
        "print(x + 3)"
      ],
      "execution_count": null,
      "outputs": [
        {
          "name": "stdout",
          "output_type": "stream",
          "text": [
            "[ 2.71828183  7.3890561  20.08553692]\n",
            "[4 5 6]\n"
          ]
        }
      ]
    },
    {
      "cell_type": "code",
      "metadata": {
        "id": "-sDo38rDtuqH"
      },
      "source": [
        "def sigmoid(x):\n",
        "    s = 1.0 / (1 + np.exp(-x))\n",
        "    return s"
      ],
      "execution_count": null,
      "outputs": []
    },
    {
      "cell_type": "code",
      "metadata": {
        "id": "nMyRmJr-tuqH",
        "outputId": "62e53ef8-c6e8-4361-e3a2-9a6872e5db2f"
      },
      "source": [
        "x = np.array([1, 2, 3])\n",
        "print(x + 3)\n",
        "print(sigmoid(x))"
      ],
      "execution_count": null,
      "outputs": [
        {
          "name": "stdout",
          "output_type": "stream",
          "text": [
            "[4 5 6]\n",
            "[0.73105858 0.88079708 0.95257413]\n"
          ]
        }
      ]
    },
    {
      "cell_type": "markdown",
      "metadata": {
        "id": "S9a-mE1otuqI"
      },
      "source": [
        "## Vectorisation"
      ]
    },
    {
      "cell_type": "code",
      "metadata": {
        "colab": {
          "base_uri": "https://localhost:8080/"
        },
        "id": "WoZCeT_stuqI",
        "outputId": "04a674c2-f097-43f0-be0e-587a6fd66919"
      },
      "source": [
        "import time\n",
        "\n",
        "x1 = [9, 2, 5, 0, 0, 7, 5, 0, 0, 0, 9, 2, 5, 0, 0]\n",
        "x2 = [9, 2, 2, 9, 0, 9, 2, 5, 0, 0, 9, 2, 5, 0, 0]\n",
        "\n",
        "### CLASSIC DOT PRODUCT OF VECTORS IMPLEMENTATION ###\n",
        "tic = time.process_time()\n",
        "dot = 0\n",
        "for i in range(len(x1)):\n",
        "    dot+= x1[i]*x2[i]\n",
        "toc = time.process_time()\n",
        "print (\"dot = \" + str(dot) + \"\\n ----- Computation time = \" + str(1000*(toc - tic)) + \"ms\")\n",
        "\n",
        "### CLASSIC OUTER PRODUCT IMPLEMENTATION ###\n",
        "tic = time.process_time()\n",
        "outer = np.zeros((len(x1),len(x2))) # we create a len(x1)*len(x2) matrix with only zeros\n",
        "for i in range(len(x1)):\n",
        "    for j in range(len(x2)):\n",
        "        outer[i,j] = x1[i]*x2[j]\n",
        "toc = time.process_time()\n",
        "print (\"outer = \" + str(outer) + \"\\n ----- Computation time = \" + str(1000*(toc - tic)) + \"ms\")\n",
        "\n",
        "### CLASSIC ELEMENTWISE IMPLEMENTATION ###\n",
        "tic = time.process_time()\n",
        "mul = np.zeros(len(x1))\n",
        "for i in range(len(x1)):\n",
        "    mul[i] = x1[i]*x2[i]\n",
        "toc = time.process_time()\n",
        "print (\"elementwise multiplication = \" + str(mul) + \"\\n ----- Computation time = \" + str(1000*(toc - tic)) + \"ms\")\n",
        "\n",
        "### CLASSIC GENERAL DOT PRODUCT IMPLEMENTATION ###\n",
        "W = np.random.rand(3,len(x1)) # Random 3*len(x1) numpy array\n",
        "tic = time.process_time()\n",
        "gdot = np.zeros(W.shape[0])\n",
        "for i in range(W.shape[0]):\n",
        "    for j in range(len(x1)):\n",
        "        gdot[i] += W[i,j]*x1[j]\n",
        "toc = time.process_time()\n",
        "print (\"gdot = \" + str(gdot) + \"\\n ----- Computation time = \" + str(1000*(toc - tic)) + \"ms\")"
      ],
      "execution_count": null,
      "outputs": [
        {
          "output_type": "stream",
          "name": "stdout",
          "text": [
            "dot = 278\n",
            " ----- Computation time = 0.08483600000008806ms\n",
            "outer = [[81. 18. 18. 81.  0. 81. 18. 45.  0.  0. 81. 18. 45.  0.  0.]\n",
            " [18.  4.  4. 18.  0. 18.  4. 10.  0.  0. 18.  4. 10.  0.  0.]\n",
            " [45. 10. 10. 45.  0. 45. 10. 25.  0.  0. 45. 10. 25.  0.  0.]\n",
            " [ 0.  0.  0.  0.  0.  0.  0.  0.  0.  0.  0.  0.  0.  0.  0.]\n",
            " [ 0.  0.  0.  0.  0.  0.  0.  0.  0.  0.  0.  0.  0.  0.  0.]\n",
            " [63. 14. 14. 63.  0. 63. 14. 35.  0.  0. 63. 14. 35.  0.  0.]\n",
            " [45. 10. 10. 45.  0. 45. 10. 25.  0.  0. 45. 10. 25.  0.  0.]\n",
            " [ 0.  0.  0.  0.  0.  0.  0.  0.  0.  0.  0.  0.  0.  0.  0.]\n",
            " [ 0.  0.  0.  0.  0.  0.  0.  0.  0.  0.  0.  0.  0.  0.  0.]\n",
            " [ 0.  0.  0.  0.  0.  0.  0.  0.  0.  0.  0.  0.  0.  0.  0.]\n",
            " [81. 18. 18. 81.  0. 81. 18. 45.  0.  0. 81. 18. 45.  0.  0.]\n",
            " [18.  4.  4. 18.  0. 18.  4. 10.  0.  0. 18.  4. 10.  0.  0.]\n",
            " [45. 10. 10. 45.  0. 45. 10. 25.  0.  0. 45. 10. 25.  0.  0.]\n",
            " [ 0.  0.  0.  0.  0.  0.  0.  0.  0.  0.  0.  0.  0.  0.  0.]\n",
            " [ 0.  0.  0.  0.  0.  0.  0.  0.  0.  0.  0.  0.  0.  0.  0.]]\n",
            " ----- Computation time = 0.31030600000026ms\n",
            "elementwise multiplication = [81.  4. 10.  0.  0. 63. 10.  0.  0.  0. 81.  4. 25.  0.  0.]\n",
            " ----- Computation time = 0.1119169999999059ms\n",
            "gdot = [14.34331822 16.82197346 24.15533542]\n",
            " ----- Computation time = 0.17765000000036224ms\n"
          ]
        }
      ]
    },
    {
      "cell_type": "code",
      "metadata": {
        "colab": {
          "base_uri": "https://localhost:8080/"
        },
        "id": "12V1b1lCtuqI",
        "outputId": "eea805d3-b440-4f08-e1b5-7d7f7d7333fd"
      },
      "source": [
        "x1 = [9, 2, 5, 0, 0, 7, 5, 0, 0, 0, 9, 2, 5, 0, 0]\n",
        "x2 = [9, 2, 2, 9, 0, 9, 2, 5, 0, 0, 9, 2, 5, 0, 0]\n",
        "\n",
        "### VECTORIZED DOT PRODUCT OF VECTORS ###\n",
        "dot = np.dot(x1,x2)\n",
        "tic = time.process_time()\n",
        "dot = np.dot(x1,x2)\n",
        "toc = time.process_time()\n",
        "print (\"dot = \" + str(dot) + \"\\n ----- Computation time = \" + str(1000*(toc - tic)) + \"ms\")\n",
        "\n",
        "### VECTORIZED OUTER PRODUCT ###\n",
        "tic = time.process_time()\n",
        "outer = np.outer(x1,x2)\n",
        "toc = time.process_time()\n",
        "print (\"outer = \" + str(outer) + \"\\n ----- Computation time = \" + str(1000*(toc - tic)) + \"ms\")\n",
        "\n",
        "### VECTORIZED ELEMENTWISE MULTIPLICATION ###\n",
        "tic = time.process_time()\n",
        "mul = np.multiply(x1,x2)\n",
        "toc = time.process_time()\n",
        "print (\"elementwise multiplication = \" + str(mul) + \"\\n ----- Computation time = \" + str(1000*(toc - tic)) + \"ms\")\n",
        "\n",
        "### VECTORIZED GENERAL DOT PRODUCT ###\n",
        "tic = time.process_time()\n",
        "dot = np.dot(W,x1)\n",
        "toc = time.process_time()\n",
        "print (\"gdot = \" + str(dot) + \"\\n ----- Computation time = \" + str(1000*(toc - tic)) + \"ms\")"
      ],
      "execution_count": null,
      "outputs": [
        {
          "output_type": "stream",
          "name": "stdout",
          "text": [
            "dot = 278\n",
            " ----- Computation time = 0.0692849999994749ms\n",
            "outer = [[81 18 18 81  0 81 18 45  0  0 81 18 45  0  0]\n",
            " [18  4  4 18  0 18  4 10  0  0 18  4 10  0  0]\n",
            " [45 10 10 45  0 45 10 25  0  0 45 10 25  0  0]\n",
            " [ 0  0  0  0  0  0  0  0  0  0  0  0  0  0  0]\n",
            " [ 0  0  0  0  0  0  0  0  0  0  0  0  0  0  0]\n",
            " [63 14 14 63  0 63 14 35  0  0 63 14 35  0  0]\n",
            " [45 10 10 45  0 45 10 25  0  0 45 10 25  0  0]\n",
            " [ 0  0  0  0  0  0  0  0  0  0  0  0  0  0  0]\n",
            " [ 0  0  0  0  0  0  0  0  0  0  0  0  0  0  0]\n",
            " [ 0  0  0  0  0  0  0  0  0  0  0  0  0  0  0]\n",
            " [81 18 18 81  0 81 18 45  0  0 81 18 45  0  0]\n",
            " [18  4  4 18  0 18  4 10  0  0 18  4 10  0  0]\n",
            " [45 10 10 45  0 45 10 25  0  0 45 10 25  0  0]\n",
            " [ 0  0  0  0  0  0  0  0  0  0  0  0  0  0  0]\n",
            " [ 0  0  0  0  0  0  0  0  0  0  0  0  0  0  0]]\n",
            " ----- Computation time = 0.11432199999994452ms\n",
            "elementwise multiplication = [81  4 10  0  0 63 10  0  0  0 81  4 25  0  0]\n",
            " ----- Computation time = 0.08274899999971552ms\n",
            "gdot = [14.34331822 16.82197346 24.15533542]\n",
            " ----- Computation time = 0.08127799999968488ms\n"
          ]
        }
      ]
    },
    {
      "cell_type": "markdown",
      "metadata": {
        "id": "ymefBPZItuqI"
      },
      "source": [
        "## Note : \n",
        "np.dot() performs a matrix-matrix or matrix-vector multiplication. This is different from np.multiply() and the * operator, which performs an element-wise multiplication."
      ]
    },
    {
      "cell_type": "code",
      "metadata": {
        "id": "AFoIi-hktuqI"
      },
      "source": [
        ""
      ],
      "execution_count": null,
      "outputs": []
    }
  ]
}