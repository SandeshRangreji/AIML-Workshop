{
 "cells": [
  {
   "cell_type": "markdown",
   "metadata": {},
   "source": [
    "# Object Oriented Programming In Python"
   ]
  },
  {
   "cell_type": "markdown",
   "metadata": {},
   "source": [
    "## What is an object?\n",
    "An object is an instance of a Class. Memory is allocated only when an object is instantiated. Each object contains data and code to manipulate the data.\n",
    "An object is an entitiy that has a _state_ and _behaviour_ associated with it.\n",
    "\n",
    "## What is a class?\n",
    "A class is a user-defined data type. It consists of data members and member functions, which can be accessed and used by creating an instance of that class.\n",
    "A class is a blueprint that defines the variables and the methods common to all objects of a certain kind.\n",
    "\n",
    "## Example\n",
    "Class: Student\n",
    "Object: Any given student"
   ]
  },
  {
   "cell_type": "code",
   "execution_count": 1,
   "metadata": {},
   "outputs": [],
   "source": [
    "class Student:\n",
    "    def testFunction(self):\n",
    "        print(\"Hello World\")"
   ]
  },
  {
   "cell_type": "code",
   "execution_count": 2,
   "metadata": {},
   "outputs": [
    {
     "name": "stdout",
     "output_type": "stream",
     "text": [
      "Hello World\n"
     ]
    }
   ],
   "source": [
    "obj = Student()\n",
    "obj.testFunction()"
   ]
  },
  {
   "cell_type": "markdown",
   "metadata": {},
   "source": [
    "## The self\n",
    "<ul>\n",
    "    <li> Class methods must have an extra first parameter in the method definition. We do not give a value for this paramater when we call method, it is automatically given. </li>\n",
    "    <li> If we have a method that no arguments, then we still have to have one argument-the self. </li>\n",
    "    <li> Any data member has to be referenced using <i>self</i> </li>\n",
    "</ul>\n",
    "\n",
    "## The __init___ method\n",
    "This method is run as soon as an object of a class is instantiated. The method is useful to do any initialization you want to do with your object."
   ]
  },
  {
   "cell_type": "code",
   "execution_count": 5,
   "metadata": {},
   "outputs": [],
   "source": [
    "class Student:\n",
    "    def __init__(self, name):\n",
    "        self.name = name\n",
    "    \n",
    "    def printName(self):\n",
    "        print(\"My name is \", self.name)"
   ]
  },
  {
   "cell_type": "code",
   "execution_count": 6,
   "metadata": {},
   "outputs": [
    {
     "name": "stdout",
     "output_type": "stream",
     "text": [
      "My name is  John\n"
     ]
    }
   ],
   "source": [
    "student1 = Student(\"John\")\n",
    "student1.printName()"
   ]
  },
  {
   "cell_type": "code",
   "execution_count": 18,
   "metadata": {},
   "outputs": [],
   "source": [
    "class Student:\n",
    "    # double underscore to make a variable hidden\n",
    "    __hiddenVariable = 0\n",
    "    def __init__(self, name, age, dept):\n",
    "        self.name = name\n",
    "        self.age = age\n",
    "        self. dept = dept\n",
    "        \n",
    "    def setMarks(self, physics, chemistry, maths):\n",
    "        self.physics = physics\n",
    "        self.chemistry = chemistry\n",
    "        self.maths = maths\n",
    "        \n",
    "    def printDetails(self):\n",
    "        print(\"Name: \", self.name)\n",
    "        print(\"Age: \", self.age)\n",
    "        print(\"Department: \", self.dept)\n",
    "        \n",
    "    def printMarks(self):\n",
    "        print(\"Physics: \", self.physics)\n",
    "        print(\"Chemistry: \", self.chemistry)\n",
    "        print(\"Math: \", self.maths)"
   ]
  },
  {
   "cell_type": "code",
   "execution_count": 19,
   "metadata": {},
   "outputs": [
    {
     "name": "stdout",
     "output_type": "stream",
     "text": [
      "Name:  John\n",
      "Age:  21\n",
      "Department:  Computer Science\n",
      "Physics:  49\n",
      "Chemistry:  45\n",
      "Math:  50\n"
     ]
    }
   ],
   "source": [
    "student1 = Student(\"John\", 21, \"Computer Science\")\n",
    "student1.printDetails()\n",
    "student1.setMarks(49, 45, 50)\n",
    "student1.printMarks()"
   ]
  },
  {
   "cell_type": "code",
   "execution_count": 20,
   "metadata": {},
   "outputs": [
    {
     "name": "stdout",
     "output_type": "stream",
     "text": [
      "21\n"
     ]
    },
    {
     "ename": "AttributeError",
     "evalue": "'Student' object has no attribute '__hiddenVariable'",
     "output_type": "error",
     "traceback": [
      "\u001b[1;31m---------------------------------------------------------------------------\u001b[0m",
      "\u001b[1;31mAttributeError\u001b[0m                            Traceback (most recent call last)",
      "\u001b[1;32m<ipython-input-20-84f23e17d77c>\u001b[0m in \u001b[0;36m<module>\u001b[1;34m\u001b[0m\n\u001b[0;32m      1\u001b[0m \u001b[0mprint\u001b[0m\u001b[1;33m(\u001b[0m\u001b[0mstudent1\u001b[0m\u001b[1;33m.\u001b[0m\u001b[0mage\u001b[0m\u001b[1;33m)\u001b[0m\u001b[1;33m\u001b[0m\u001b[1;33m\u001b[0m\u001b[0m\n\u001b[1;32m----> 2\u001b[1;33m \u001b[0mprint\u001b[0m\u001b[1;33m(\u001b[0m\u001b[0mstudent1\u001b[0m\u001b[1;33m.\u001b[0m\u001b[0m__hiddenVariable\u001b[0m\u001b[1;33m)\u001b[0m\u001b[1;33m\u001b[0m\u001b[1;33m\u001b[0m\u001b[0m\n\u001b[0m",
      "\u001b[1;31mAttributeError\u001b[0m: 'Student' object has no attribute '__hiddenVariable'"
     ]
    }
   ],
   "source": [
    "print(student1.age)\n",
    "# print(student1.__hiddenVariable)"
   ]
  },
  {
   "cell_type": "code",
   "execution_count": null,
   "metadata": {},
   "outputs": [],
   "source": []
  }
 ],
 "metadata": {
  "kernelspec": {
   "display_name": "Python 3",
   "language": "python",
   "name": "python3"
  },
  "language_info": {
   "codemirror_mode": {
    "name": "ipython",
    "version": 3
   },
   "file_extension": ".py",
   "mimetype": "text/x-python",
   "name": "python",
   "nbconvert_exporter": "python",
   "pygments_lexer": "ipython3",
   "version": "3.7.3"
  }
 },
 "nbformat": 4,
 "nbformat_minor": 2
}
