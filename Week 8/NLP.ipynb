{
  "nbformat": 4,
  "nbformat_minor": 0,
  "metadata": {
    "colab": {
      "name": "NLP.ipynb",
      "provenance": [],
      "collapsed_sections": []
    },
    "kernelspec": {
      "name": "python3",
      "display_name": "Python 3"
    },
    "language_info": {
      "name": "python"
    }
  },
  "cells": [
    {
      "cell_type": "markdown",
      "metadata": {
        "id": "1SPoP6aFyOy8"
      },
      "source": [
        "## **Text Classification**"
      ]
    },
    {
      "cell_type": "code",
      "metadata": {
        "id": "dgDMB7diyu3L"
      },
      "source": [
        "import pandas as pd\n",
        "import numpy as np"
      ],
      "execution_count": 2,
      "outputs": []
    },
    {
      "cell_type": "code",
      "metadata": {
        "id": "Aq_ksvFlyGi4"
      },
      "source": [
        "df = pd.read_csv('/content/drive/MyDrive/Text Classification/train_data.csv', delimiter=' ')"
      ],
      "execution_count": 4,
      "outputs": []
    },
    {
      "cell_type": "code",
      "metadata": {
        "colab": {
          "base_uri": "https://localhost:8080/"
        },
        "id": "V_wHFzilytjh",
        "outputId": "bf5594af-9527-4a63-ddfa-09a477db2f40"
      },
      "source": [
        "df.shape"
      ],
      "execution_count": 5,
      "outputs": [
        {
          "output_type": "execute_result",
          "data": {
            "text/plain": [
              "(25000, 3)"
            ]
          },
          "metadata": {
            "tags": []
          },
          "execution_count": 5
        }
      ]
    },
    {
      "cell_type": "code",
      "metadata": {
        "colab": {
          "base_uri": "https://localhost:8080/",
          "height": 195
        },
        "id": "3Y4oTAsyzZzO",
        "outputId": "eb535601-2372-4124-caeb-df4aa5f86453"
      },
      "source": [
        "df.head()"
      ],
      "execution_count": 6,
      "outputs": [
        {
          "output_type": "execute_result",
          "data": {
            "text/html": [
              "<div>\n",
              "<style scoped>\n",
              "    .dataframe tbody tr th:only-of-type {\n",
              "        vertical-align: middle;\n",
              "    }\n",
              "\n",
              "    .dataframe tbody tr th {\n",
              "        vertical-align: top;\n",
              "    }\n",
              "\n",
              "    .dataframe thead th {\n",
              "        text-align: right;\n",
              "    }\n",
              "</style>\n",
              "<table border=\"1\" class=\"dataframe\">\n",
              "  <thead>\n",
              "    <tr style=\"text-align: right;\">\n",
              "      <th></th>\n",
              "      <th>sentence</th>\n",
              "      <th>sentiment</th>\n",
              "      <th>polarity</th>\n",
              "    </tr>\n",
              "  </thead>\n",
              "  <tbody>\n",
              "    <tr>\n",
              "      <th>0</th>\n",
              "      <td>bromwell high cartoon comedy  ran time some pr...</td>\n",
              "      <td>9</td>\n",
              "      <td>1</td>\n",
              "    </tr>\n",
              "    <tr>\n",
              "      <th>1</th>\n",
              "      <td>homelessness  or houselessness george carlin s...</td>\n",
              "      <td>8</td>\n",
              "      <td>1</td>\n",
              "    </tr>\n",
              "    <tr>\n",
              "      <th>2</th>\n",
              "      <td>brilliant over acting lesley ann warren  best ...</td>\n",
              "      <td>10</td>\n",
              "      <td>1</td>\n",
              "    </tr>\n",
              "    <tr>\n",
              "      <th>3</th>\n",
              "      <td>easily underrated film inn brooks cannon  sure...</td>\n",
              "      <td>7</td>\n",
              "      <td>1</td>\n",
              "    </tr>\n",
              "    <tr>\n",
              "      <th>4</th>\n",
              "      <td>is typical mel brooks film  much less slapstic...</td>\n",
              "      <td>8</td>\n",
              "      <td>1</td>\n",
              "    </tr>\n",
              "  </tbody>\n",
              "</table>\n",
              "</div>"
            ],
            "text/plain": [
              "                                            sentence  sentiment  polarity\n",
              "0  bromwell high cartoon comedy  ran time some pr...          9         1\n",
              "1  homelessness  or houselessness george carlin s...          8         1\n",
              "2  brilliant over acting lesley ann warren  best ...         10         1\n",
              "3  easily underrated film inn brooks cannon  sure...          7         1\n",
              "4  is typical mel brooks film  much less slapstic...          8         1"
            ]
          },
          "metadata": {
            "tags": []
          },
          "execution_count": 6
        }
      ]
    },
    {
      "cell_type": "code",
      "metadata": {
        "id": "Ehov85QozauV"
      },
      "source": [
        "import tensorflow as tf\n",
        "from tensorflow import keras\n",
        "from tensorflow.keras.preprocessing.text import Tokenizer\n",
        "from tensorflow.keras.preprocessing.sequence import pad_sequences"
      ],
      "execution_count": 7,
      "outputs": []
    },
    {
      "cell_type": "code",
      "metadata": {
        "id": "szmbFPxzzekq"
      },
      "source": [
        "tokenizer = Tokenizer()\n",
        "tokenizer.fit_on_texts(df['sentence'])\n",
        "\n",
        "thresh=35\n",
        "\n",
        "cnt=0\n",
        "tot_cnt=0\n",
        "freq=0\n",
        "tot_freq=0\n",
        "\n",
        "for key,value in tokenizer.word_counts.items():\n",
        "    tot_cnt=tot_cnt+1\n",
        "    tot_freq=tot_freq+value\n",
        "    if(value<thresh):\n",
        "        cnt=cnt+1\n",
        "        freq=freq+value\n",
        "\n",
        "common = tot_cnt-cnt\n",
        "\n",
        "tokenizer = Tokenizer(num_words = common)\n",
        "tokenizer.fit_on_texts(df['sentence'])\n",
        "word2idx = tokenizer.word_index"
      ],
      "execution_count": 8,
      "outputs": []
    },
    {
      "cell_type": "code",
      "metadata": {
        "colab": {
          "base_uri": "https://localhost:8080/"
        },
        "id": "j3qhHEtAzk7D",
        "outputId": "1df4b23d-1282-4ff4-f875-de1519b56e39"
      },
      "source": [
        "len_word2idx = common\n",
        "len_word2idx"
      ],
      "execution_count": 9,
      "outputs": [
        {
          "output_type": "execute_result",
          "data": {
            "text/plain": [
              "9253"
            ]
          },
          "metadata": {
            "tags": []
          },
          "execution_count": 9
        }
      ]
    },
    {
      "cell_type": "code",
      "metadata": {
        "id": "c0qhe2DAzvLn"
      },
      "source": [
        "sequences = tokenizer.texts_to_sequences(df['sentence'])"
      ],
      "execution_count": 10,
      "outputs": []
    },
    {
      "cell_type": "code",
      "metadata": {
        "colab": {
          "base_uri": "https://localhost:8080/"
        },
        "id": "KoThspQnzzCU",
        "outputId": "27fb101a-8aa4-4670-cdaf-ef93be493051"
      },
      "source": [
        "X_train = pad_sequences(sequences, padding='post', maxlen=200)\n",
        "Y_train = []\n",
        "for i in range(25000):\n",
        "    if i < 12500:\n",
        "        Y_train.append(1)\n",
        "    else:\n",
        "        Y_train.append(0)\n",
        "Y_train = np.reshape(Y_train, (len(Y_train),)+(1,))\n",
        "\n",
        "print(X_train.shape)\n",
        "print(Y_train.shape)"
      ],
      "execution_count": 11,
      "outputs": [
        {
          "output_type": "stream",
          "text": [
            "(25000, 200)\n",
            "(25000, 1)\n"
          ],
          "name": "stdout"
        }
      ]
    },
    {
      "cell_type": "code",
      "metadata": {
        "colab": {
          "base_uri": "https://localhost:8080/"
        },
        "id": "PcIdFnGP0IA2",
        "outputId": "a121a32b-7c21-4a11-e3ea-83b88f32c196"
      },
      "source": [
        "test_df = pd.read_csv('/content/drive/MyDrive/Text Classification/test_data.csv', delimiter=' ')\n",
        "\n",
        "test_df['sentence'].pop(11663)\n",
        "tokenizer_test = Tokenizer(num_words = common)\n",
        "tokenizer_test.fit_on_texts(test_df['sentence'])\n",
        "word2idx_test = tokenizer_test.word_index\n",
        "sequences_test = tokenizer_test.texts_to_sequences(test_df['sentence'])\n",
        "\n",
        "X_test = pad_sequences(sequences_test, padding='post', maxlen=200)\n",
        "\n",
        "Y_test = []\n",
        "for i in range(25000):\n",
        "    if i < 12500:\n",
        "        Y_test.append(1)\n",
        "    else:\n",
        "        Y_test.append(0)\n",
        "Y_test.pop(11663)       \n",
        "Y_test = np.reshape(Y_test, (len(Y_test),)+(1,))\n",
        "\n",
        "\n",
        "print(X_test.shape)\n",
        "print(Y_test.shape)"
      ],
      "execution_count": 21,
      "outputs": [
        {
          "output_type": "stream",
          "text": [
            "(24999, 200)\n",
            "(24999, 1)\n"
          ],
          "name": "stdout"
        }
      ]
    },
    {
      "cell_type": "code",
      "metadata": {
        "id": "vulTjFAk0aaF"
      },
      "source": [
        "from keras.layers import Bidirectional, Concatenate, Permute, Dot, Input, LSTM, Multiply\n",
        "from keras.layers import RepeatVector, Dense, Activation, Lambda\n",
        "from keras.optimizers import Adam\n",
        "from keras.utils import to_categorical\n",
        "from keras.models import load_model, Model\n",
        "import keras.backend as K\n",
        "import random\n",
        "import matplotlib.pyplot as plt\n",
        "%matplotlib inline\n",
        "from tensorflow.keras.layers import Input, LSTM, Embedding, Dense, Concatenate, TimeDistributed\n",
        "from tensorflow.keras.models import Model\n",
        "from tensorflow.keras.callbacks import EarlyStopping\n",
        "from tensorflow.keras import layers"
      ],
      "execution_count": 22,
      "outputs": []
    },
    {
      "cell_type": "code",
      "metadata": {
        "id": "Iic16U_b4QCk"
      },
      "source": [
        "input_X = keras.Input(shape=(200,))\n",
        "\n",
        "X = layers.Embedding(len_word2idx, 128)(input_X)\n",
        "X = layers.Bidirectional(layers.LSTM(64, return_sequences=True))(X)\n",
        "X = layers.Bidirectional(layers.LSTM(64))(X)\n",
        "\n",
        "out = layers.Dense(1, activation='sigmoid')(X)\n",
        "\n",
        "model = keras.Model(input_X, out)"
      ],
      "execution_count": 23,
      "outputs": []
    },
    {
      "cell_type": "code",
      "metadata": {
        "colab": {
          "base_uri": "https://localhost:8080/"
        },
        "id": "9NlkFtZF4Seh",
        "outputId": "0f348cdf-13fb-48cf-a97c-65d57cc64b34"
      },
      "source": [
        "model.summary()\n"
      ],
      "execution_count": 24,
      "outputs": [
        {
          "output_type": "stream",
          "text": [
            "Model: \"model\"\n",
            "_________________________________________________________________\n",
            "Layer (type)                 Output Shape              Param #   \n",
            "=================================================================\n",
            "input_1 (InputLayer)         [(None, 200)]             0         \n",
            "_________________________________________________________________\n",
            "embedding (Embedding)        (None, 200, 128)          1184384   \n",
            "_________________________________________________________________\n",
            "bidirectional (Bidirectional (None, 200, 128)          98816     \n",
            "_________________________________________________________________\n",
            "bidirectional_1 (Bidirection (None, 128)               98816     \n",
            "_________________________________________________________________\n",
            "dense (Dense)                (None, 1)                 129       \n",
            "=================================================================\n",
            "Total params: 1,382,145\n",
            "Trainable params: 1,382,145\n",
            "Non-trainable params: 0\n",
            "_________________________________________________________________\n"
          ],
          "name": "stdout"
        }
      ]
    },
    {
      "cell_type": "code",
      "metadata": {
        "id": "mhhvxm4X4VuQ"
      },
      "source": [
        "model.compile(optimizer = 'adam', loss = 'binary_crossentropy', metrics = ['accuracy'])"
      ],
      "execution_count": 25,
      "outputs": []
    },
    {
      "cell_type": "code",
      "metadata": {
        "colab": {
          "base_uri": "https://localhost:8080/"
        },
        "id": "fghKYULR4YVE",
        "outputId": "60081886-f1cc-46dc-dd7e-faa9429abe1c"
      },
      "source": [
        "\n",
        "model.fit(X_train, Y_train, epochs=5, batch_size = 64)"
      ],
      "execution_count": 26,
      "outputs": [
        {
          "output_type": "stream",
          "text": [
            "Epoch 1/5\n",
            "391/391 [==============================] - 239s 596ms/step - loss: 0.4817 - accuracy: 0.7505\n",
            "Epoch 2/5\n",
            "391/391 [==============================] - 234s 598ms/step - loss: 0.2088 - accuracy: 0.9236\n",
            "Epoch 3/5\n",
            "391/391 [==============================] - 234s 599ms/step - loss: 0.1388 - accuracy: 0.9523\n",
            "Epoch 4/5\n",
            "391/391 [==============================] - 235s 601ms/step - loss: 0.0922 - accuracy: 0.9690\n",
            "Epoch 5/5\n",
            "391/391 [==============================] - 235s 601ms/step - loss: 0.0894 - accuracy: 0.9696\n"
          ],
          "name": "stdout"
        },
        {
          "output_type": "execute_result",
          "data": {
            "text/plain": [
              "<tensorflow.python.keras.callbacks.History at 0x7f76501f37d0>"
            ]
          },
          "metadata": {
            "tags": []
          },
          "execution_count": 26
        }
      ]
    },
    {
      "cell_type": "code",
      "metadata": {
        "colab": {
          "base_uri": "https://localhost:8080/"
        },
        "id": "iQjl4Rf04aiY",
        "outputId": "c8946c4e-1299-4c57-8154-19decfcaa617"
      },
      "source": [
        "train_loss, train_acc = model.evaluate(X_train, Y_train)\n",
        "print(\"train_loss : \", train_loss)\n",
        "print(\"train_acc : \", train_acc)"
      ],
      "execution_count": 27,
      "outputs": [
        {
          "output_type": "stream",
          "text": [
            "782/782 [==============================] - 66s 83ms/step - loss: 0.0548 - accuracy: 0.9855\n",
            "train_loss :  0.05484621599316597\n",
            "train_acc :  0.985480010509491\n"
          ],
          "name": "stdout"
        }
      ]
    },
    {
      "cell_type": "code",
      "metadata": {
        "id": "G7mHhBq74-Vz"
      },
      "source": [
        "pred_train = model.predict(X_train)"
      ],
      "execution_count": 28,
      "outputs": []
    },
    {
      "cell_type": "code",
      "metadata": {
        "colab": {
          "base_uri": "https://localhost:8080/"
        },
        "id": "AwAE6CiJ5DKw",
        "outputId": "843c702e-ac6f-4d86-a958-7d94412959e7"
      },
      "source": [
        "test_loss, test_acc = model.evaluate(X_test, Y_test)\n",
        "print(\"test_loss : \", test_loss)\n",
        "print(\"test_acc : \", test_acc)"
      ],
      "execution_count": 29,
      "outputs": [
        {
          "output_type": "stream",
          "text": [
            "782/782 [==============================] - 64s 82ms/step - loss: 1.7103 - accuracy: 0.5262\n",
            "test_loss :  1.7102558612823486\n",
            "test_acc :  0.5262210369110107\n"
          ],
          "name": "stdout"
        }
      ]
    },
    {
      "cell_type": "code",
      "metadata": {
        "id": "Y5PMEdig5LfS"
      },
      "source": [
        "pred_test = model.predict(X_test)"
      ],
      "execution_count": 30,
      "outputs": []
    },
    {
      "cell_type": "code",
      "metadata": {
        "id": "8HRpIeLB9by3"
      },
      "source": [
        ""
      ],
      "execution_count": null,
      "outputs": []
    }
  ]
}